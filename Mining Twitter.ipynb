{
 "cells": [
  {
   "cell_type": "markdown",
   "metadata": {},
   "source": [
    "# Assignment 2. Mining Twitter\n",
    "### Due Date: April 12th (Friday) Midnight"
   ]
  },
  {
   "cell_type": "markdown",
   "metadata": {},
   "source": [
    "In this assignment, you will learn how to do knowledge mining on tweets with Twitter libraries and NLP packages.\n",
    "\n",
    "### Data\n",
    "\n",
    "You will use [Twitter libraries](https://developer.twitter.com/en/docs/developer-utilities/twitter-libraries) to download tweets about a certain topic.\n",
    "\n",
    "### References\n",
    "\n",
    "- [Twitter libraries](https://developer.twitter.com/en/docs/developer-utilities/twitter-libraries)\n",
    "- [Natural Language Toolkit](https://www.nltk.org/)\n",
    "- [word_cloud](https://github.com/amueller/word_cloud)"
   ]
  },
  {
   "cell_type": "markdown",
   "metadata": {},
   "source": [
    "## Problem 1: Basic Twitter Data Analysis\n",
    "\n",
    "Pick a [Twitter libraries](https://developer.twitter.com/en/docs/developer-utilities/twitter-libraries), for example [Python Twitter Tools](https://github.com/sixohsix/twitter), download tweets, and visualize tweets."
   ]
  },
  {
   "cell_type": "markdown",
   "metadata": {},
   "source": [
    "### Q1: Download Tweets about a Certain Topic (30 pts)\n",
    "\n",
    "Before you start coding, you need to create your Twitter app first:\n",
    "\n",
    "1. Go to https://apps.twitter.com/, create your own Twitter app.\n",
    "2. In Application Management, go to \"Keys and Access Tokens\".\n",
    "3. Record \"Consumer Key (API Key)\" and \"Consumer Secret (API Secret)\" \n",
    "4. In \"Token Actions\", click \"Create my access token\"\n",
    "5. Record \"Access Token\" and \"Access Token Secret\"\n",
    "\n",
    "You will need information from step 3 and 5 to authenticate and download tweets.\n",
    "\n",
    "Now pick a topic, for example, #heatculter, #az08, or #dartmouth, use the twitter library to download tweets.\n",
    "\n",
    "For example, if you choose to use [Python Twitter Tools](https://github.com/sixohsix/twitter), do the following:\n",
    "- Create OAuth object: `twitter.oauth.OAuth`.\n",
    "- Create Twitter object: `twitter.Twitter`.\n",
    "- Use `search.tweets()` method to search certain topic tweets.\n",
    "- Print searched tweets content, `favorite_count` and `retweet_count`.\n",
    "- Save the tweets to a json file.\n",
    "\n",
    "You might want to delete your Twitter keys and tokens before submitting the assignment. Remember to submit the downloaded data file."
   ]
  },
  {
   "cell_type": "code",
   "execution_count": 44,
   "metadata": {},
   "outputs": [],
   "source": [
    "import twitter\n",
    "\n",
    "def oauth_login():\n",
    "    # write your code here\n",
    "    # return a Twitter object\n",
    "    auth = twitter.oauth.OAuth(consumer_key = '',\n",
    "                              consumer_secret = '',\n",
    "                              token = '',\n",
    "                              token_secret = '')\n",
    "    twitter_api = twitter.Twitter(auth=auth)\n",
    "    return twitter_api\n",
    "\n",
    "twitter_api=oauth_login()"
   ]
  },
  {
   "cell_type": "code",
   "execution_count": 45,
   "metadata": {},
   "outputs": [
    {
     "name": "stdout",
     "output_type": "stream",
     "text": [
      "<twitter.api.Twitter object at 0x0000017804C415C0>\n"
     ]
    }
   ],
   "source": [
    "print(twitter_api)"
   ]
  },
  {
   "cell_type": "code",
   "execution_count": 46,
   "metadata": {},
   "outputs": [],
   "source": [
    "searched_tweets = twitter_api.search.tweets(q='Dartmouth',count=100)\n",
    "#print(searched_tweets)"
   ]
  },
  {
   "cell_type": "code",
   "execution_count": 47,
   "metadata": {},
   "outputs": [
    {
     "name": "stdout",
     "output_type": "stream",
     "text": [
      "Favorite count is:  [0, 2, 0, 0, 0, 0, 0, 0, 0, 0, 0, 0, 0, 0, 0, 0, 0, 1, 0, 0, 0, 0, 0, 0, 0, 0, 0, 0, 0, 0, 0, 0, 0, 0, 0, 0, 0, 0, 0, 0, 0, 0, 0, 0, 0, 1, 1, 0, 0, 0, 0, 0, 0, 0, 4, 0, 0, 0, 0, 0, 0, 0, 0, 0, 7, 0, 0, 0, 0, 0, 0, 0, 0, 0, 0, 0, 0, 0, 0, 0, 0, 0, 0, 0, 0, 0, 0, 0, 0, 0, 0, 0, 0, 0, 0, 0, 0, 0, 0, 0]\n",
      "Retweet count is:  [0, 0, 473, 473, 473, 1, 473, 473, 473, 0, 473, 1, 473, 473, 473, 473, 473, 1, 527, 473, 0, 473, 473, 0, 473, 473, 3, 0, 473, 473, 2, 473, 0, 0, 473, 473, 473, 5, 0, 527, 473, 1, 473, 473, 473, 0, 0, 473, 473, 0, 0, 473, 473, 1, 0, 473, 473, 473, 473, 473, 473, 6, 473, 473, 1, 0, 0, 0, 473, 0, 473, 473, 473, 0, 473, 0, 473, 473, 473, 473, 473, 473, 473, 473, 0, 473, 473, 0, 473, 0, 473, 473, 473, 473, 473, 473, 473, 473, 473, 473]\n"
     ]
    }
   ],
   "source": [
    "favorite_count = []\n",
    "retweet_count = []\n",
    "\n",
    "for i in range(100):\n",
    "    status = searched_tweets['statuses']\n",
    "    fav = status[i]['favorite_count']\n",
    "    rt = status[i]['retweet_count']\n",
    "    favorite_count.append(fav)\n",
    "    retweet_count.append(rt)\n",
    "print('Favorite count is: ',favorite_count)\n",
    "print('Retweet count is: ',retweet_count)"
   ]
  },
  {
   "cell_type": "code",
   "execution_count": 48,
   "metadata": {},
   "outputs": [],
   "source": [
    "import json\n",
    "\n",
    "def twitter_search(twitter_api, q, max_results=200, **kw):\n",
    "\n",
    "    # See https://developer.twitter.com/en/docs/tweets/search/api-reference/get-search-tweets\n",
    "    # and https://developer.twitter.com/en/docs/tweets/search/guides/standard-operators\n",
    "    # for details on advanced search criteria that may be useful for \n",
    "    # keyword arguments\n",
    "    \n",
    "    # See https://dev.twitter.com/docs/api/1.1/get/search/tweets    \n",
    "    # write your code here\n",
    "    search_results = twitter_api.search.tweets(q=q,count=100,**kw)\n",
    "    statuses = search_results['statuses']\n",
    "    return statuses\n",
    "\n",
    "# usage sample\n",
    "twitter_api = oauth_login()\n",
    "\n",
    "q = \"Dartmouth\"\n",
    "results = twitter_search(twitter_api, q, max_results=10)\n",
    "\n",
    "# write your code here (print and save... etc)\n",
    "#print(results)\n",
    "\n",
    "with open('tweet_results.json','w') as file:\n",
    "    json.dump(results,file)"
   ]
  },
  {
   "cell_type": "markdown",
   "metadata": {},
   "source": [
    "### Q2:  Extracting text and hashtags from tweets (30 pts)\n",
    "\n",
    "If we dig into the json structure of the response in Q1, we can find there are two main keys below the root: one is `statuses` (which contains the main part of our interest), and another is `search_metadata`.\n",
    "\n",
    "In this question, you are asked to count the number of each word in each tweet, and try to construct a table that has `word` and `count` as two columns. Do the same thing on `hashtag` (where can I find hashtag information?). You need to exclude any stop words and punctuations in the tweets before computing word frequencies. You can use `nltk.corpus.stopwords.words()` to get a list of stop words, and get punctuations from `string.punctuation`. Also, take care of upper/lower case, plural nouns, difference verb tenses.\n",
    "\n",
    "You may need to install nltk first: `pip install nltk`\n",
    "\n",
    "Make use of `prettytable` package to help you draw a better table. \n",
    "\n",
    "Your output should look like this (the form, not the content):\n",
    "```\n",
    "+-----------+-------+\n",
    "| Word      | Count |\n",
    "+-----------+-------+\n",
    "| RT        |    56 |\n",
    "| dartmouth |    53 |\n",
    "| halifax   |    15 |\n",
    "| park      |    11 |\n",
    "| defeat    |    10 |\n",
    "| brockton  |    10 |\n",
    "| everi     |    10 |\n",
    "| admit     |    10 |\n",
    "| mysteri   |     9 |\n",
    "| sunken    |     9 |\n",
    "+-----------+-------+\n",
    "```"
   ]
  },
  {
   "cell_type": "code",
   "execution_count": 49,
   "metadata": {},
   "outputs": [
    {
     "name": "stdout",
     "output_type": "stream",
     "text": [
      "+---------------+-------+\n",
      "|      Word     | Count |\n",
      "+---------------+-------+\n",
      "|       RT      |   78  |\n",
      "|   dartmouth   |   69  |\n",
      "| veryimportant |   65  |\n",
      "|   pronounced  |   65  |\n",
      "|     mouth     |   65  |\n",
      "|      like     |   65  |\n",
      "|     'smash    |   65  |\n",
      "|   Dartmouth   |   23  |\n",
      "|     https     |   21  |\n",
      "|       ’       |   4   |\n",
      "|  theginwyche  |   4   |\n",
      "+---------------+-------+\n"
     ]
    }
   ],
   "source": [
    "import nltk\n",
    "import string\n",
    "from nltk.corpus import stopwords\n",
    "from nltk.stem import PorterStemmer\n",
    "#nltk.download('stopwords')\n",
    "\n",
    "from collections import Counter\n",
    "from prettytable import PrettyTable\n",
    "\n",
    "# write your code here\n",
    "tweet_list = Counter(nltk.word_tokenize(results[0]['text']))\n",
    "for i in range(1,100):\n",
    "    z = Counter(nltk.word_tokenize(results[i]['text']))\n",
    "    tweet_list += z\n",
    "\n",
    "sw = nltk.corpus.stopwords.words('english')\n",
    "for i in sw:\n",
    "    tweet_list.pop(i,None)\n",
    "\n",
    "for j in string.punctuation:\n",
    "    tweet_list.pop(j,None)\n",
    "    \n",
    "porter = PorterStemmer()\n",
    "[porter.stem(t) for t in tweet_list]\n",
    "\n",
    "wnl = nltk.WordNetLemmatizer()\n",
    "[wnl.lemmatize(t) for t in tweet_list]\n",
    "\n",
    "count = 0\n",
    "\n",
    "table = PrettyTable(['key','value'])\n",
    "\n",
    "for key, val in sorted(tweet_list.items(), key = lambda kv:(kv[1],kv[0]),reverse = True):\n",
    "    if count > 10:\n",
    "        break\n",
    "    table.add_row([key,val])\n",
    "    count+=1\n",
    "table.field_names = ['Word','Count']\n",
    "print(table)"
   ]
  },
  {
   "cell_type": "code",
   "execution_count": 50,
   "metadata": {},
   "outputs": [
    {
     "name": "stdout",
     "output_type": "stream",
     "text": [
      "+---------------+-------+\n",
      "|      Word     | Count |\n",
      "+---------------+-------+\n",
      "|  MakarUpdate  |   3   |\n",
      "|   Dartmouth   |   2   |\n",
      "|  likeforlike  |   1   |\n",
      "| likeforfollow |   1   |\n",
      "|    dartyszn   |   1   |\n",
      "|     darty     |   1   |\n",
      "|  dartmouth23s |   1   |\n",
      "|  dartmouth23  |   1   |\n",
      "|   dartmouth   |   1   |\n",
      "|   Warehouse   |   1   |\n",
      "|     TGIMD     |   1   |\n",
      "+---------------+-------+\n"
     ]
    }
   ],
   "source": [
    "import re\n",
    "\n",
    "hashtag_list = Counter(re.findall(r'#(\\w+)',results[0]['text']))\n",
    "for i in range(1,100):\n",
    "    z = Counter(re.findall(r'#(\\w+)',results[i]['text']))\n",
    "    hashtag_list += z\n",
    "\n",
    "for j in string.punctuation:\n",
    "    hashtag_list.pop(j,None)\n",
    "\n",
    "porter = PorterStemmer()\n",
    "[porter.stem(t) for t in hashtag_list]\n",
    "\n",
    "wnl = nltk.WordNetLemmatizer()\n",
    "[wnl.lemmatize(t) for t in hashtag_list]\n",
    "    \n",
    "count_ht = 0\n",
    "\n",
    "ht_table = PrettyTable(['key','value'])\n",
    "for key, val in sorted(hashtag_list.items(), key = lambda kv:(kv[1],kv[0]),reverse = True):\n",
    "    if count_ht > 10:\n",
    "        break\n",
    "    ht_table.add_row([key,val])\n",
    "    count_ht+=1\n",
    "ht_table.field_names = ['Word','Count']\n",
    "print(ht_table)"
   ]
  },
  {
   "cell_type": "markdown",
   "metadata": {},
   "source": [
    "### Q3: WordCloud Visualization (5 pts)\n",
    "\n",
    "Use [word_cloud](https://github.com/amueller/word_cloud) to make a word cloud of all the tweets.\n",
    "\n",
    "(You may need to install word cloud with `conda install -c conda-forge wordcloud`)"
   ]
  },
  {
   "cell_type": "code",
   "execution_count": 51,
   "metadata": {},
   "outputs": [
    {
     "data": {
      "text/plain": [
       "<matplotlib.image.AxesImage at 0x17804b3c9b0>"
      ]
     },
     "execution_count": 51,
     "metadata": {},
     "output_type": "execute_result"
    },
    {
     "data": {
      "image/png": "[encoded data removed]",
      "text/plain": [
       "<Figure size 432x288 with 1 Axes>"
      ]
     },
     "metadata": {
      "needs_background": "light"
     },
     "output_type": "display_data"
    }
   ],
   "source": [
    "import matplotlib.pyplot as plt\n",
    "%matplotlib inline\n",
    "from wordcloud import WordCloud\n",
    "\n",
    "# write your code here\n",
    "wc = WordCloud().generate_from_frequencies(tweet_list)\n",
    "plt.imshow(wc)"
   ]
  },
  {
   "cell_type": "markdown",
   "metadata": {},
   "source": [
    "## Problem 2: Sementic Analysis for real-time Tweets\n",
    "\n",
    "You may want to analyze what people are tweeting about right now from a real-time stream of tweets as opposed to querying the Search API for what might be slightly (or very) dated information. In this section, we are going to use `twitter.TwitterStream()` method to sample public data from the Twitter firehose. \n",
    "\n",
    "The first step is to use regular expressions to filter out special characters (eg. `,.?!`). For python, a good choice is standard module `re` https://docs.python.org/3/library/re.html. We also recommend you to use https://regex101.com/ as a playground to build up qualified regular expressions of your own.\n",
    "\n",
    "### Q1: Regular Expression (5 pts)\n",
    "\n",
    "Now let's compose a simple text preprocessor. Your prepocessor is required to:\n",
    "\n",
    "(If we define characters that are not `a-z` `A-Z` and `,.!?` as \"special character\".)\n",
    "\n",
    "1. filter out all special characters\n",
    "2. for repeated `,.!?`, your converted result should insert space between them (because that would be convenient for method like `split()` to compute word frequency)\n",
    "\n",
    "You need to print out \"before\" and \"after\" text during your processing. You are provided sample text."
   ]
  },
  {
   "cell_type": "code",
   "execution_count": 52,
   "metadata": {},
   "outputs": [
    {
     "name": "stdout",
     "output_type": "stream",
     "text": [
      "this is a pretty awesome book.... but it's a little bit confusing at beginning @@@@@\n",
      "this is a pretty awesome book. . . . but its a little bit confusing at beginning \n"
     ]
    }
   ],
   "source": [
    "import re\n",
    "\n",
    "def preprocess_text(text):\n",
    "    # write your code here\n",
    "    text = re.findall(r'[A-Za-z.?!, ]',text)\n",
    "    text = ''.join(text)\n",
    "    text = re.sub(r'(?<=[.,?!])(?=[^\\s])',r' ', text)\n",
    "    return text\n",
    "\n",
    "# write code if necessary\n",
    "sample_text = \"this is a pretty awesome book.... but it's a little bit confusing at beginning @@@@@\"\n",
    "print(sample_text)\n",
    "new_text = preprocess_text(sample_text)\n",
    "print(new_text)"
   ]
  },
  {
   "cell_type": "markdown",
   "metadata": {},
   "source": [
    "### Q2: Sentiment Analysis with nltk (15 pts)\n",
    "    \n",
    "Next, we will use NLP package to perform senmentic analysis on tweets.\n",
    "\n",
    "You need to do following things:\n",
    "\n",
    "- Download 100 tweets in streaming way and store all tweets in a variable (say `tweets`)\n",
    "- Preprocess all tweets with `preprocess_text()` method\n",
    "- Use `SentimentIntensityAnalyzer` from nltk to find out the most positive and the most negative tweet in `tweets`. Show your proof code.\n",
    "\n",
    "You may need to install nltk first: `pip install nltk`"
   ]
  },
  {
   "cell_type": "code",
   "execution_count": 53,
   "metadata": {},
   "outputs": [
    {
     "data": {
      "text/plain": [
       "<twitter.stream.TwitterStream at 0x17804b04ac8>"
      ]
     },
     "execution_count": 53,
     "metadata": {},
     "output_type": "execute_result"
    }
   ],
   "source": [
    "twitter_stream = twitter.TwitterStream(auth=twitter.oauth.OAuth(consumer_key = 'GcHzOTyU4moQHc4Dgkd50Rqhk',\n",
    "                              consumer_secret = 'z8zsTxujYebAI5VSUSixizTpsibdvFVidoLediSNIlkeNRlqD1',\n",
    "                              token = '1110245390966800384-8BRHF0dCP0o23ljLB3Jg5CQ3aA1x1i',\n",
    "                              token_secret = 'iXFei8NjYVOlDemzP07Z6z6XsykBpfwNR5qiQxjvJpGGX'))\n",
    "twitter_stream"
   ]
  },
  {
   "cell_type": "code",
   "execution_count": 54,
   "metadata": {},
   "outputs": [
    {
     "data": {
      "text/plain": [
       "<generator object TwitterJSONIter.__iter__ at 0x0000017804844258>"
      ]
     },
     "execution_count": 54,
     "metadata": {},
     "output_type": "execute_result"
    }
   ],
   "source": [
    "iterator = twitter_stream.statuses.sample()\n",
    "iterator"
   ]
  },
  {
   "cell_type": "code",
   "execution_count": 55,
   "metadata": {},
   "outputs": [
    {
     "name": "stdout",
     "output_type": "stream",
     "text": [
      "The most negative tweet is:  Possible Structure Fire\n",
      "0-50 Block Chadwick St (Dartmouth)\n",
      "Emergency Crews Dispatched.\n",
      "The most positive tweet is:  @JWGartin @dartmouth They should never have removed it from the stacks...but I'm happy it's in good, appreciative hands\n"
     ]
    }
   ],
   "source": [
    "# pip install nltk\n",
    "import nltk\n",
    "#nltk.download('vader_lexicon')\n",
    "\n",
    "from nltk.sentiment.vader import SentimentIntensityAnalyzer\n",
    "\n",
    "# write your code here\n",
    "\n",
    "neg = []\n",
    "pos = []\n",
    "\n",
    "for i in range(100):\n",
    "    tweet = preprocess_text(results[i]['text'])\n",
    "    analyzer = SentimentIntensityAnalyzer()\n",
    "    score = analyzer.polarity_scores(tweet)\n",
    "    neg.append(score['neg'])\n",
    "    pos.append(score['pos'])\n",
    "\n",
    "bad_tweet = neg.index(max(neg)) # index of where the most negative polarity score is\n",
    "good_tweet = pos.index(max(pos)) # index of where the most positive polarity score is\n",
    "\n",
    "print('The most negative tweet is: ', results[bad_tweet]['text'])\n",
    "print('The most positive tweet is: ', results[good_tweet]['text'])"
   ]
  },
  {
   "cell_type": "markdown",
   "metadata": {},
   "source": [
    "### Q2: Sentiment Analysis with TextBlob (15 pts)\n",
    "\n",
    "In this problem, use [TextBlob](https://textblob.readthedocs.io/en/dev/api_reference.html#api-classifiers) to assess each tweet's sentiment. The sentiment has a tuple of form (polarity, subjectivity) where polarity is a float within the range [-1.0, 1.0] and subjectivity is a float within the range [0.0, 1.0] where 0.0 is very objective and 1.0 is very subjective (from API reference). Please set resonable threshold for both polarity and subjectivity of each tweet, and plot two bar figures that show the classification results.\n",
    "\n",
    "- Plot figure one with two columns [Positive, Negative].\n",
    "- Plot figure two with two columns [Objective, Subjective]."
   ]
  },
  {
   "cell_type": "code",
   "execution_count": 56,
   "metadata": {},
   "outputs": [
    {
     "data": {
      "image/png": "[encoded data removed]",
      "text/plain": [
       "<Figure size 432x288 with 1 Axes>"
      ]
     },
     "metadata": {
      "needs_background": "light"
     },
     "output_type": "display_data"
    },
    {
     "data": {
      "image/png": "[encoded data removed]",
      "text/plain": [
       "<Figure size 432x288 with 1 Axes>"
      ]
     },
     "metadata": {
      "needs_background": "light"
     },
     "output_type": "display_data"
    }
   ],
   "source": [
    "from textblob import TextBlob\n",
    "# write your code here\n",
    "\n",
    "subjS = []\n",
    "subjO = []\n",
    "\n",
    "polP = []\n",
    "polN = []\n",
    "\n",
    "for i in range(100):\n",
    "    tweet = preprocess_text(results[i]['text'])\n",
    "    z = (TextBlob(tweet))\n",
    "    pol = z.sentiment.polarity\n",
    "    subj = z.sentiment.subjectivity\n",
    "    if pol > 0:\n",
    "        polP.append(pol)\n",
    "    else:\n",
    "        polN.append(pol)\n",
    "    if subj > 0.5:\n",
    "        subjS.append(subj)\n",
    "    else:\n",
    "        subjO.append(subj)\n",
    "\n",
    "plt.bar('Subjective',len(subjS))\n",
    "plt.bar('Objective',len(subjO))\n",
    "plt.show()\n",
    "plt.figure()\n",
    "plt.bar('Positive',len(polP))\n",
    "plt.bar('Negative',len(polN))\n",
    "plt.show()"
   ]
  }
 ],
 "metadata": {
  "kernelspec": {
   "display_name": "Python 3",
   "language": "python",
   "name": "python3"
  },
  "toc": {
   "base_numbering": 1,
   "nav_menu": {},
   "number_sections": true,
   "sideBar": true,
   "skip_h1_title": false,
   "title_cell": "Table of Contents",
   "title_sidebar": "Contents",
   "toc_cell": false,
   "toc_position": {},
   "toc_section_display": true,
   "toc_window_display": false
  }
 },
 "nbformat": 4,
 "nbformat_minor": 2
}
