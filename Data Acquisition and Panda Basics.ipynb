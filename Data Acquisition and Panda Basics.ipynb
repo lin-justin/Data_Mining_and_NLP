{
 "cells": [
  {
   "cell_type": "markdown",
   "metadata": {},
   "source": [
    "# Assignment 1. Data Acquisition and Pandas Basics\n",
    "\n",
    "### Due: April 2nd (Tuesday) 11:59 pm\n",
    "\n",
    "## Introduction\n",
    "\n",
    "In this assignment, we ask you to write python code to solve three data acquisition problems. You will learn how to load CSV files, create functions in python, create plots and summary statistics, and scrape web page. \n",
    "\n",
    "### Data\n",
    "\n",
    "You will use three datasets.\n",
    "1. NOAA Hanover Climate Data: https://www.ncdc.noaa.gov/cdo-web/\n",
    "2. S&P 500, Dow Jones Industrial Average, Nasdaq Composite\n",
    "3. Lending Club Loan Data from Kaggle (https://www.kaggle.com/wendykan/lending-club-loan-data)\n",
    "\n",
    "### Useful libraries\n",
    "\n",
    "- pandas\n",
    "- matplotlib\n",
    "- numpy\n",
    "- [pandas-datareader](https://pandas-datareader.readthedocs.io/en/latest/)\n"
   ]
  },
  {
   "cell_type": "markdown",
   "metadata": {},
   "source": [
    "## Problem 1: Hanover Climate Data Basic Analysis\n",
    "\n",
    "You need to implement functions to load the provided Hanover Climate Data CSV file in python, print out data summaries, and plot the data. "
   ]
  },
  {
   "cell_type": "markdown",
   "metadata": {},
   "source": [
    "### Q1: Load the CSV file (5 points)\n",
    "\n",
    "The data file is NOAA_Hanover.csv. write a function to load the file to pandas dataframe and return the dataframe.\n",
    "\n",
    "Note:\n",
    "- The data type of the \"DATE\" column should be datetime or Timestamp.\n",
    "- Rows should be sorted by \"DATE\"."
   ]
  },
  {
   "cell_type": "code",
   "execution_count": 1,
   "metadata": {},
   "outputs": [],
   "source": [
    "import pandas as pd\n",
    "from matplotlib import pyplot as plt\n",
    "%matplotlib inline"
   ]
  },
  {
   "cell_type": "code",
   "execution_count": 2,
   "metadata": {},
   "outputs": [],
   "source": [
    "def load_hanover_climate_data(filename='NOAA_Hanover.csv', low_memory=False):\n",
    "    # write your code here\n",
    "    df = pd.read_csv(filename)\n",
    "    df = pd.DataFrame(df)\n",
    "    #df['DATE'] = pd.to_datetime(df['DATE'],format='%Y-%m-%d')\n",
    "    return df"
   ]
  },
  {
   "cell_type": "markdown",
   "metadata": {},
   "source": [
    "### Q2: Show the data (15 points)\n",
    "\n",
    "Write python code in the following cell to:\n",
    "- Print out all column names.\n",
    "- Show the first 10 rows of the dataframe.\n",
    "- Show the date range of the data.\n",
    "- Print out the percentage of missing values for columns \"TMIN\", \"TMAX\", and \"PRCP\"?\n",
    "- Find min, median, max, mean, and std of \"TMIN\", \"TMAX\", and \"PRCP\"."
   ]
  },
  {
   "cell_type": "code",
   "execution_count": 3,
   "metadata": {},
   "outputs": [],
   "source": [
    "import warnings\n",
    "warnings.filterwarnings('ignore')"
   ]
  },
  {
   "cell_type": "code",
   "execution_count": 4,
   "metadata": {},
   "outputs": [
    {
     "name": "stdout",
     "output_type": "stream",
     "text": [
      "Index(['STATION', 'NAME', 'LATITUDE', 'LONGITUDE', 'ELEVATION', 'DATE', 'PRCP',\n",
      "       'PRCP_ATTRIBUTES', 'SNOW', 'SNOW_ATTRIBUTES', 'SNWD', 'SNWD_ATTRIBUTES',\n",
      "       'TMAX', 'TMAX_ATTRIBUTES', 'TMIN', 'TMIN_ATTRIBUTES', 'TOBS',\n",
      "       'TOBS_ATTRIBUTES', 'WT01', 'WT01_ATTRIBUTES', 'WT03', 'WT03_ATTRIBUTES',\n",
      "       'WT04', 'WT04_ATTRIBUTES', 'WT05', 'WT05_ATTRIBUTES', 'WT06',\n",
      "       'WT06_ATTRIBUTES', 'WT07', 'WT07_ATTRIBUTES', 'WT08', 'WT08_ATTRIBUTES',\n",
      "       'WT09', 'WT09_ATTRIBUTES', 'WT11', 'WT11_ATTRIBUTES', 'WT14',\n",
      "       'WT14_ATTRIBUTES', 'WT16', 'WT16_ATTRIBUTES', 'WT18',\n",
      "       'WT18_ATTRIBUTES'],\n",
      "      dtype='object')\n"
     ]
    }
   ],
   "source": [
    "hanover_data = load_hanover_climate_data(filename='NOAA_Hanover.csv')\n",
    "hanover_data['DATE'] = pd.to_datetime(hanover_data['DATE'])\n",
    "# write your code here\n",
    "print(hanover_data.columns)"
   ]
  },
  {
   "cell_type": "code",
   "execution_count": 5,
   "metadata": {},
   "outputs": [
    {
     "name": "stdout",
     "output_type": "stream",
     "text": [
      "       STATION              NAME  LATITUDE  LONGITUDE  ELEVATION       DATE  \\\n",
      "0  USC00273855  HANOVER 2, NH US   43.7186   -72.2724      161.5 2011-01-01   \n",
      "1  USC00273855  HANOVER 2, NH US   43.7186   -72.2724      161.5 2011-01-02   \n",
      "2  USC00273855  HANOVER 2, NH US   43.7186   -72.2724      161.5 2011-01-03   \n",
      "3  USC00273855  HANOVER 2, NH US   43.7186   -72.2724      161.5 2011-01-04   \n",
      "4  USC00273855  HANOVER 2, NH US   43.7186   -72.2724      161.5 2011-01-05   \n",
      "5  USC00273855  HANOVER 2, NH US   43.7186   -72.2724      161.5 2011-01-06   \n",
      "6  USC00273855  HANOVER 2, NH US   43.7186   -72.2724      161.5 2011-01-07   \n",
      "7  USC00273855  HANOVER 2, NH US   43.7186   -72.2724      161.5 2011-01-08   \n",
      "8  USC00273855  HANOVER 2, NH US   43.7186   -72.2724      161.5 2011-01-09   \n",
      "9  USC00273855  HANOVER 2, NH US   43.7186   -72.2724      161.5 2011-01-10   \n",
      "\n",
      "   PRCP PRCP_ATTRIBUTES  SNOW SNOW_ATTRIBUTES       ...        WT09  \\\n",
      "0   0.0        ,,7,0700   0.0             ,,7       ...         NaN   \n",
      "1   1.5        ,,7,0700   0.0             ,,7       ...         NaN   \n",
      "2   0.0        ,,7,0700   0.0             ,,7       ...         NaN   \n",
      "3   0.0        ,,7,0700   0.0             ,,7       ...         NaN   \n",
      "4   0.3        ,,7,0700   3.0             ,,7       ...         NaN   \n",
      "5   0.0        ,,7,0700   0.0             ,,7       ...         NaN   \n",
      "6   0.0        ,,7,0700   0.0             ,,7       ...         NaN   \n",
      "7   1.0        ,,7,0700  51.0             ,,7       ...         NaN   \n",
      "8   0.3        ,,7,0700  25.0             ,,7       ...         NaN   \n",
      "9   0.0        ,,7,0700   0.0             ,,7       ...         NaN   \n",
      "\n",
      "  WT09_ATTRIBUTES  WT11 WT11_ATTRIBUTES  WT14 WT14_ATTRIBUTES  WT16  \\\n",
      "0             NaN   NaN             NaN   NaN             NaN   NaN   \n",
      "1             NaN   NaN             NaN   NaN             NaN   NaN   \n",
      "2             NaN   NaN             NaN   NaN             NaN   NaN   \n",
      "3             NaN   NaN             NaN   NaN             NaN   NaN   \n",
      "4             NaN   NaN             NaN   NaN             NaN   NaN   \n",
      "5             NaN   NaN             NaN   NaN             NaN   NaN   \n",
      "6             NaN   NaN             NaN   NaN             NaN   NaN   \n",
      "7             NaN   NaN             NaN   NaN             NaN   NaN   \n",
      "8             NaN   NaN             NaN   NaN             NaN   NaN   \n",
      "9             NaN   NaN             NaN   NaN             NaN   NaN   \n",
      "\n",
      "  WT16_ATTRIBUTES  WT18 WT18_ATTRIBUTES  \n",
      "0             NaN   NaN             NaN  \n",
      "1             NaN   NaN             NaN  \n",
      "2             NaN   NaN             NaN  \n",
      "3             NaN   NaN             NaN  \n",
      "4             NaN   NaN             NaN  \n",
      "5             NaN   NaN             NaN  \n",
      "6             NaN   NaN             NaN  \n",
      "7             NaN   NaN             NaN  \n",
      "8             NaN   NaN             NaN  \n",
      "9             NaN   NaN             NaN  \n",
      "\n",
      "[10 rows x 42 columns]\n"
     ]
    }
   ],
   "source": [
    "print(hanover_data.head(10))"
   ]
  },
  {
   "cell_type": "code",
   "execution_count": 6,
   "metadata": {},
   "outputs": [
    {
     "name": "stdout",
     "output_type": "stream",
     "text": [
      "The date range of the data is from 1884-11-01 00:00:00 to 2018-02-28 00:00:00\n"
     ]
    }
   ],
   "source": [
    "print(\"The date range of the data is from {0} to {1}\".format(min(hanover_data['DATE']),max(hanover_data['DATE'])))"
   ]
  },
  {
   "cell_type": "code",
   "execution_count": 7,
   "metadata": {},
   "outputs": [
    {
     "name": "stdout",
     "output_type": "stream",
     "text": [
      "The percentage of missing values for TMIN is 7.67%\n",
      "The percentage of missing values for TMAX is 7.82%\n",
      "The percentage of missing values for PRCP is 5.18%\n"
     ]
    }
   ],
   "source": [
    "print(\"The percentage of missing values for TMIN is {0}%\".\n",
    "      format(round((hanover_data['TMIN'].isnull().sum()/len(hanover_data['TMIN']))*100,2)))\n",
    "print(\"The percentage of missing values for TMAX is {0}%\".\n",
    "      format(round((hanover_data['TMAX'].isnull().sum()/len(hanover_data['TMIN']))*100,2)))\n",
    "print(\"The percentage of missing values for PRCP is {0}%\".\n",
    "      format(round((hanover_data['PRCP'].isnull().sum()/len(hanover_data['TMIN']))*100,2)))"
   ]
  },
  {
   "cell_type": "code",
   "execution_count": 8,
   "metadata": {},
   "outputs": [
    {
     "name": "stdout",
     "output_type": "stream",
     "text": [
      "TMIN: min = -40.0, median = 1.7, max = 25.0, mean = 25.0, std = 10.99\n",
      "TMAX: min = -24.4, median = 13.9, max = 39.4, mean = 39.4, std = 11.76\n",
      "PRCP: min = 0.0, median = 0.0, max = 143.5, mean = 143.5, std = 6.76\n"
     ]
    }
   ],
   "source": [
    "print(\"TMIN: min = {0}, median = {1}, max = {2}, mean = {3}, std = {4}\".format(hanover_data['TMIN'].min(),hanover_data['TMIN'].median(),hanover_data['TMIN'].max(),hanover_data['TMIN'].max(),round(hanover_data['TMIN'].std(),2)))\n",
    "print(\"TMAX: min = {0}, median = {1}, max = {2}, mean = {3}, std = {4}\".format(hanover_data['TMAX'].min(),hanover_data['TMAX'].median(),hanover_data['TMAX'].max(),hanover_data['TMAX'].max(),round(hanover_data['TMAX'].std(),2)))\n",
    "print(\"PRCP: min = {0}, median = {1}, max = {2}, mean = {3}, std = {4}\".format(hanover_data['PRCP'].min(),hanover_data['PRCP'].median(),hanover_data['PRCP'].max(),hanover_data['PRCP'].max(),round(hanover_data['PRCP'].std(),2)))"
   ]
  },
  {
   "cell_type": "markdown",
   "metadata": {},
   "source": [
    "### Q3: Visualize the data (15 points)\n",
    "\n",
    "Write a function to show a line plot of a given year's temperature and preciptation. The function should take three parameters: dataframe, year, and column name you are going to plot. Show months on the x-axis.\n",
    "\n",
    "Hint: use pandas.Timestamp to represent date.\n",
    "\n",
    "- Pick a year, plot TMIN, TMAX in one plot, and PRCP in another plot.\n",
    "- Make a plot to show the differences between TMAX and TMIN (i.e., TMAX-TMIN). Hint: you can modify the dataframe."
   ]
  },
  {
   "cell_type": "code",
   "execution_count": 9,
   "metadata": {},
   "outputs": [
    {
     "data": {
      "text/plain": [
       "<Figure size 432x288 with 0 Axes>"
      ]
     },
     "execution_count": 9,
     "metadata": {},
     "output_type": "execute_result"
    },
    {
     "data": {
      "image/png": "[encoded data removed]",
      "text/plain": [
       "<Figure size 432x288 with 1 Axes>"
      ]
     },
     "metadata": {
      "needs_background": "light"
     },
     "output_type": "display_data"
    },
    {
     "data": {
      "image/png": "[encoded data removed]",
      "text/plain": [
       "<Figure size 432x288 with 1 Axes>"
      ]
     },
     "metadata": {
      "needs_background": "light"
     },
     "output_type": "display_data"
    },
    {
     "data": {
      "image/png": "[encoded data removed]",
      "text/plain": [
       "<Figure size 432x288 with 1 Axes>"
      ]
     },
     "metadata": {
      "needs_background": "light"
     },
     "output_type": "display_data"
    },
    {
     "data": {
      "text/plain": [
       "<Figure size 432x288 with 0 Axes>"
      ]
     },
     "metadata": {},
     "output_type": "display_data"
    }
   ],
   "source": [
    "from pandas import Timestamp\n",
    "import numpy as np\n",
    "from datetime import datetime\n",
    "\n",
    "def plot_weather_data(weather_data, year, column, y_label=''):\n",
    "    # write your code here\n",
    "    year_input = weather_data[weather_data['DATE'].dt.year == year]\n",
    "    plt.plot(year_input['DATE'].dt.month,year_input[column])\n",
    "    pass\n",
    "\n",
    "# write your code here\n",
    "plot_weather_data(hanover_data,2014,'TMAX')\n",
    "plot_weather_data(hanover_data,2014,'TMIN')\n",
    "plt.title('TMAX vs TMIN')\n",
    "plt.xlabel('Month')\n",
    "plt.ylabel('Temperature')\n",
    "plt.figure()\n",
    "\n",
    "plot_weather_data(hanover_data,2014,'PRCP')\n",
    "plt.title('PRCP')\n",
    "plt.xlabel('Month')\n",
    "plt.ylabel('Precipitation')\n",
    "plt.figure()\n",
    "\n",
    "hanover_data['Diff'] = hanover_data['TMAX'] - hanover_data['TMIN']\n",
    "plot_weather_data(hanover_data,2014,'Diff')\n",
    "plt.title('Difference between TMAX and TMIN')\n",
    "plt.xlabel('Month')\n",
    "plt.ylabel('Temperature')\n",
    "plt.figure()"
   ]
  },
  {
   "cell_type": "markdown",
   "metadata": {},
   "source": [
    "## Problem 2: DJIA, S&P 500, and NASDAQ Correlation Analysis\n",
    "\n",
    "Before you start working on this problem, install pandas-datareader python library.\n",
    "\n",
    "You will implement code to download DJIA, S&P 500, and NASDAQ from FRED (Federal Reserve Economic Data) and visualize the data from 2016-03-27 to 2019-03-27."
   ]
  },
  {
   "cell_type": "markdown",
   "metadata": {},
   "source": [
    "### Q1: Download the data (10 points)\n",
    "\n",
    "Read pandas-datareader document at https://pydata.github.io/pandas-datareader/stable/remote_data.html#remote-data-fred to figure out how to use the API to download the data. Write your code to download the data."
   ]
  },
  {
   "cell_type": "code",
   "execution_count": 10,
   "metadata": {},
   "outputs": [
    {
     "data": {
      "text/html": [
       "<div>\n",
       "<style scoped>\n",
       "    .dataframe tbody tr th:only-of-type {\n",
       "        vertical-align: middle;\n",
       "    }\n",
       "\n",
       "    .dataframe tbody tr th {\n",
       "        vertical-align: top;\n",
       "    }\n",
       "\n",
       "    .dataframe thead th {\n",
       "        text-align: right;\n",
       "    }\n",
       "</style>\n",
       "<table border=\"1\" class=\"dataframe\">\n",
       "  <thead>\n",
       "    <tr style=\"text-align: right;\">\n",
       "      <th></th>\n",
       "      <th>DJIA</th>\n",
       "      <th>SP500</th>\n",
       "      <th>NASDAQCOM</th>\n",
       "    </tr>\n",
       "    <tr>\n",
       "      <th>DATE</th>\n",
       "      <th></th>\n",
       "      <th></th>\n",
       "      <th></th>\n",
       "    </tr>\n",
       "  </thead>\n",
       "  <tbody>\n",
       "    <tr>\n",
       "      <th>2016-03-28</th>\n",
       "      <td>17535.39</td>\n",
       "      <td>2037.05</td>\n",
       "      <td>4766.79</td>\n",
       "    </tr>\n",
       "    <tr>\n",
       "      <th>2016-03-29</th>\n",
       "      <td>17633.11</td>\n",
       "      <td>2055.01</td>\n",
       "      <td>4846.62</td>\n",
       "    </tr>\n",
       "    <tr>\n",
       "      <th>2016-03-30</th>\n",
       "      <td>17716.66</td>\n",
       "      <td>2063.95</td>\n",
       "      <td>4869.29</td>\n",
       "    </tr>\n",
       "    <tr>\n",
       "      <th>2016-03-31</th>\n",
       "      <td>17685.09</td>\n",
       "      <td>2059.74</td>\n",
       "      <td>4869.85</td>\n",
       "    </tr>\n",
       "    <tr>\n",
       "      <th>2016-04-01</th>\n",
       "      <td>17792.75</td>\n",
       "      <td>2072.78</td>\n",
       "      <td>4914.54</td>\n",
       "    </tr>\n",
       "  </tbody>\n",
       "</table>\n",
       "</div>"
      ],
      "text/plain": [
       "                DJIA    SP500  NASDAQCOM\n",
       "DATE                                    \n",
       "2016-03-28  17535.39  2037.05    4766.79\n",
       "2016-03-29  17633.11  2055.01    4846.62\n",
       "2016-03-30  17716.66  2063.95    4869.29\n",
       "2016-03-31  17685.09  2059.74    4869.85\n",
       "2016-04-01  17792.75  2072.78    4914.54"
      ]
     },
     "execution_count": 10,
     "metadata": {},
     "output_type": "execute_result"
    }
   ],
   "source": [
    "# write your code here to load DJIA, SP500, NASDAQCOM from fred, show the head\n",
    "import pandas_datareader.data as web\n",
    "import datetime\n",
    "\n",
    "start = datetime.datetime(2016,3,27)\n",
    "end = datetime.datetime(2019,3,27)\n",
    "\n",
    "stock = web.DataReader(['DJIA','SP500','NASDAQCOM'],'fred',start,end)\n",
    "stock.head()"
   ]
  },
  {
   "cell_type": "markdown",
   "metadata": {},
   "source": [
    "### Q2: Plot the data (5 points)\n",
    "\n",
    "Make three line plots to show how Dow Jones Industrial Average, S&P 500, and NASDAQ change over time."
   ]
  },
  {
   "cell_type": "code",
   "execution_count": 11,
   "metadata": {},
   "outputs": [
    {
     "data": {
      "image/png": "[encoded data removed]",
      "text/plain": [
       "<Figure size 432x288 with 1 Axes>"
      ]
     },
     "metadata": {
      "needs_background": "light"
     },
     "output_type": "display_data"
    },
    {
     "data": {
      "image/png": "[encoded data removed]",
      "text/plain": [
       "<Figure size 432x288 with 1 Axes>"
      ]
     },
     "metadata": {
      "needs_background": "light"
     },
     "output_type": "display_data"
    },
    {
     "data": {
      "image/png": "[encoded data removed]",
      "text/plain": [
       "<Figure size 432x288 with 1 Axes>"
      ]
     },
     "metadata": {
      "needs_background": "light"
     },
     "output_type": "display_data"
    },
    {
     "data": {
      "text/plain": [
       "<Figure size 432x288 with 0 Axes>"
      ]
     },
     "metadata": {},
     "output_type": "display_data"
    }
   ],
   "source": [
    "# write your code here\n",
    "# plot 3 figs\n",
    "import matplotlib.pyplot as plt\n",
    "%matplotlib inline\n",
    "\n",
    "plt.plot(stock['DJIA'])\n",
    "plt.xlabel('Date')\n",
    "plt.ylabel('Price')\n",
    "plt.title('DJIA')\n",
    "plt.figure()\n",
    "\n",
    "plt.plot(stock['SP500'])\n",
    "plt.xlabel('Date')\n",
    "plt.ylabel('Price')\n",
    "plt.title('SP500')\n",
    "plt.figure()\n",
    "\n",
    "plt.plot(stock['NASDAQCOM'])\n",
    "plt.xlabel('Date')\n",
    "plt.ylabel('Price')\n",
    "plt.title('NASDAQCOM')\n",
    "plt.figure()\n",
    "plt.show()"
   ]
  },
  {
   "cell_type": "markdown",
   "metadata": {},
   "source": [
    "### Q3: Correlation (10 points)\n",
    "\n",
    "The three composite indices look similar. Compute correlations to quantify how similar they are. \n",
    "\n",
    "**Hint**: Try to skip `NaN` values in the columns."
   ]
  },
  {
   "cell_type": "code",
   "execution_count": 12,
   "metadata": {},
   "outputs": [
    {
     "data": {
      "text/plain": [
       "DJIA         29\n",
       "SP500        27\n",
       "NASDAQCOM    27\n",
       "dtype: int64"
      ]
     },
     "execution_count": 12,
     "metadata": {},
     "output_type": "execute_result"
    }
   ],
   "source": [
    "stock.isnull().sum() # see how many missing values there are in each column"
   ]
  },
  {
   "cell_type": "code",
   "execution_count": 13,
   "metadata": {},
   "outputs": [
    {
     "data": {
      "text/plain": [
       "DJIA         0\n",
       "SP500        0\n",
       "NASDAQCOM    0\n",
       "dtype: int64"
      ]
     },
     "execution_count": 13,
     "metadata": {},
     "output_type": "execute_result"
    }
   ],
   "source": [
    "# your code starts here\n",
    "stock = stock.dropna() #use dropna() function to remove the missing values\n",
    "stock.isnull().sum() # check if there are missing values, should have zero now"
   ]
  },
  {
   "cell_type": "code",
   "execution_count": 14,
   "metadata": {},
   "outputs": [
    {
     "data": {
      "text/html": [
       "<div>\n",
       "<style scoped>\n",
       "    .dataframe tbody tr th:only-of-type {\n",
       "        vertical-align: middle;\n",
       "    }\n",
       "\n",
       "    .dataframe tbody tr th {\n",
       "        vertical-align: top;\n",
       "    }\n",
       "\n",
       "    .dataframe thead th {\n",
       "        text-align: right;\n",
       "    }\n",
       "</style>\n",
       "<table border=\"1\" class=\"dataframe\">\n",
       "  <thead>\n",
       "    <tr style=\"text-align: right;\">\n",
       "      <th></th>\n",
       "      <th>DJIA</th>\n",
       "      <th>SP500</th>\n",
       "      <th>NASDAQCOM</th>\n",
       "    </tr>\n",
       "  </thead>\n",
       "  <tbody>\n",
       "    <tr>\n",
       "      <th>DJIA</th>\n",
       "      <td>1.000000</td>\n",
       "      <td>0.993250</td>\n",
       "      <td>0.983924</td>\n",
       "    </tr>\n",
       "    <tr>\n",
       "      <th>SP500</th>\n",
       "      <td>0.993250</td>\n",
       "      <td>1.000000</td>\n",
       "      <td>0.994197</td>\n",
       "    </tr>\n",
       "    <tr>\n",
       "      <th>NASDAQCOM</th>\n",
       "      <td>0.983924</td>\n",
       "      <td>0.994197</td>\n",
       "      <td>1.000000</td>\n",
       "    </tr>\n",
       "  </tbody>\n",
       "</table>\n",
       "</div>"
      ],
      "text/plain": [
       "               DJIA     SP500  NASDAQCOM\n",
       "DJIA       1.000000  0.993250   0.983924\n",
       "SP500      0.993250  1.000000   0.994197\n",
       "NASDAQCOM  0.983924  0.994197   1.000000"
      ]
     },
     "execution_count": 14,
     "metadata": {},
     "output_type": "execute_result"
    }
   ],
   "source": [
    "stock.corr() # get the correlations"
   ]
  },
  {
   "cell_type": "markdown",
   "metadata": {},
   "source": [
    "## Problem 3: Lending Club Loan Aggregation Analysis\n",
    "\n",
    "The dataset for this problem is from Kaggle (https://www.kaggle.com/wendykan/lending-club-loan-data). It's a large and high-dimentional dataset. We simplified the dataset for beginner use and we may extend to its full version in later assignments. \n",
    "\n",
    "### Q1: Unzip and Load Data (5 points)\n",
    "\n",
    "Please use python code unzip it to `\"./dataset/\"` folder and load the data into dataframe. Your jupyter notebook should be in the same folder with `dataset`."
   ]
  },
  {
   "cell_type": "code",
   "execution_count": 15,
   "metadata": {},
   "outputs": [
    {
     "data": {
      "text/html": [
       "<div>\n",
       "<style scoped>\n",
       "    .dataframe tbody tr th:only-of-type {\n",
       "        vertical-align: middle;\n",
       "    }\n",
       "\n",
       "    .dataframe tbody tr th {\n",
       "        vertical-align: top;\n",
       "    }\n",
       "\n",
       "    .dataframe thead th {\n",
       "        text-align: right;\n",
       "    }\n",
       "</style>\n",
       "<table border=\"1\" class=\"dataframe\">\n",
       "  <thead>\n",
       "    <tr style=\"text-align: right;\">\n",
       "      <th></th>\n",
       "      <th>id</th>\n",
       "      <th>member_id</th>\n",
       "      <th>loan_amnt</th>\n",
       "      <th>funded_amnt</th>\n",
       "      <th>funded_amnt_inv</th>\n",
       "      <th>term</th>\n",
       "      <th>int_rate</th>\n",
       "      <th>installment</th>\n",
       "      <th>grade</th>\n",
       "      <th>sub_grade</th>\n",
       "      <th>...</th>\n",
       "      <th>total_bal_il</th>\n",
       "      <th>il_util</th>\n",
       "      <th>open_rv_12m</th>\n",
       "      <th>open_rv_24m</th>\n",
       "      <th>max_bal_bc</th>\n",
       "      <th>all_util</th>\n",
       "      <th>total_rev_hi_lim</th>\n",
       "      <th>inq_fi</th>\n",
       "      <th>total_cu_tl</th>\n",
       "      <th>inq_last_12m</th>\n",
       "    </tr>\n",
       "  </thead>\n",
       "  <tbody>\n",
       "    <tr>\n",
       "      <th>0</th>\n",
       "      <td>1077501</td>\n",
       "      <td>1296599</td>\n",
       "      <td>5000.0</td>\n",
       "      <td>5000.0</td>\n",
       "      <td>4975.0</td>\n",
       "      <td>36 months</td>\n",
       "      <td>10.65</td>\n",
       "      <td>162.87</td>\n",
       "      <td>B</td>\n",
       "      <td>B2</td>\n",
       "      <td>...</td>\n",
       "      <td>NaN</td>\n",
       "      <td>NaN</td>\n",
       "      <td>NaN</td>\n",
       "      <td>NaN</td>\n",
       "      <td>NaN</td>\n",
       "      <td>NaN</td>\n",
       "      <td>NaN</td>\n",
       "      <td>NaN</td>\n",
       "      <td>NaN</td>\n",
       "      <td>NaN</td>\n",
       "    </tr>\n",
       "    <tr>\n",
       "      <th>1</th>\n",
       "      <td>1077430</td>\n",
       "      <td>1314167</td>\n",
       "      <td>2500.0</td>\n",
       "      <td>2500.0</td>\n",
       "      <td>2500.0</td>\n",
       "      <td>60 months</td>\n",
       "      <td>15.27</td>\n",
       "      <td>59.83</td>\n",
       "      <td>C</td>\n",
       "      <td>C4</td>\n",
       "      <td>...</td>\n",
       "      <td>NaN</td>\n",
       "      <td>NaN</td>\n",
       "      <td>NaN</td>\n",
       "      <td>NaN</td>\n",
       "      <td>NaN</td>\n",
       "      <td>NaN</td>\n",
       "      <td>NaN</td>\n",
       "      <td>NaN</td>\n",
       "      <td>NaN</td>\n",
       "      <td>NaN</td>\n",
       "    </tr>\n",
       "    <tr>\n",
       "      <th>2</th>\n",
       "      <td>1077175</td>\n",
       "      <td>1313524</td>\n",
       "      <td>2400.0</td>\n",
       "      <td>2400.0</td>\n",
       "      <td>2400.0</td>\n",
       "      <td>36 months</td>\n",
       "      <td>15.96</td>\n",
       "      <td>84.33</td>\n",
       "      <td>C</td>\n",
       "      <td>C5</td>\n",
       "      <td>...</td>\n",
       "      <td>NaN</td>\n",
       "      <td>NaN</td>\n",
       "      <td>NaN</td>\n",
       "      <td>NaN</td>\n",
       "      <td>NaN</td>\n",
       "      <td>NaN</td>\n",
       "      <td>NaN</td>\n",
       "      <td>NaN</td>\n",
       "      <td>NaN</td>\n",
       "      <td>NaN</td>\n",
       "    </tr>\n",
       "    <tr>\n",
       "      <th>3</th>\n",
       "      <td>1076863</td>\n",
       "      <td>1277178</td>\n",
       "      <td>10000.0</td>\n",
       "      <td>10000.0</td>\n",
       "      <td>10000.0</td>\n",
       "      <td>36 months</td>\n",
       "      <td>13.49</td>\n",
       "      <td>339.31</td>\n",
       "      <td>C</td>\n",
       "      <td>C1</td>\n",
       "      <td>...</td>\n",
       "      <td>NaN</td>\n",
       "      <td>NaN</td>\n",
       "      <td>NaN</td>\n",
       "      <td>NaN</td>\n",
       "      <td>NaN</td>\n",
       "      <td>NaN</td>\n",
       "      <td>NaN</td>\n",
       "      <td>NaN</td>\n",
       "      <td>NaN</td>\n",
       "      <td>NaN</td>\n",
       "    </tr>\n",
       "    <tr>\n",
       "      <th>4</th>\n",
       "      <td>1075358</td>\n",
       "      <td>1311748</td>\n",
       "      <td>3000.0</td>\n",
       "      <td>3000.0</td>\n",
       "      <td>3000.0</td>\n",
       "      <td>60 months</td>\n",
       "      <td>12.69</td>\n",
       "      <td>67.79</td>\n",
       "      <td>B</td>\n",
       "      <td>B5</td>\n",
       "      <td>...</td>\n",
       "      <td>NaN</td>\n",
       "      <td>NaN</td>\n",
       "      <td>NaN</td>\n",
       "      <td>NaN</td>\n",
       "      <td>NaN</td>\n",
       "      <td>NaN</td>\n",
       "      <td>NaN</td>\n",
       "      <td>NaN</td>\n",
       "      <td>NaN</td>\n",
       "      <td>NaN</td>\n",
       "    </tr>\n",
       "  </tbody>\n",
       "</table>\n",
       "<p>5 rows × 74 columns</p>\n",
       "</div>"
      ],
      "text/plain": [
       "        id  member_id  loan_amnt  funded_amnt  funded_amnt_inv        term  \\\n",
       "0  1077501    1296599     5000.0       5000.0           4975.0   36 months   \n",
       "1  1077430    1314167     2500.0       2500.0           2500.0   60 months   \n",
       "2  1077175    1313524     2400.0       2400.0           2400.0   36 months   \n",
       "3  1076863    1277178    10000.0      10000.0          10000.0   36 months   \n",
       "4  1075358    1311748     3000.0       3000.0           3000.0   60 months   \n",
       "\n",
       "   int_rate  installment grade sub_grade     ...      total_bal_il il_util  \\\n",
       "0     10.65       162.87     B        B2     ...               NaN     NaN   \n",
       "1     15.27        59.83     C        C4     ...               NaN     NaN   \n",
       "2     15.96        84.33     C        C5     ...               NaN     NaN   \n",
       "3     13.49       339.31     C        C1     ...               NaN     NaN   \n",
       "4     12.69        67.79     B        B5     ...               NaN     NaN   \n",
       "\n",
       "  open_rv_12m  open_rv_24m max_bal_bc all_util total_rev_hi_lim inq_fi  \\\n",
       "0         NaN          NaN        NaN      NaN              NaN    NaN   \n",
       "1         NaN          NaN        NaN      NaN              NaN    NaN   \n",
       "2         NaN          NaN        NaN      NaN              NaN    NaN   \n",
       "3         NaN          NaN        NaN      NaN              NaN    NaN   \n",
       "4         NaN          NaN        NaN      NaN              NaN    NaN   \n",
       "\n",
       "  total_cu_tl inq_last_12m  \n",
       "0         NaN          NaN  \n",
       "1         NaN          NaN  \n",
       "2         NaN          NaN  \n",
       "3         NaN          NaN  \n",
       "4         NaN          NaN  \n",
       "\n",
       "[5 rows x 74 columns]"
      ]
     },
     "execution_count": 15,
     "metadata": {},
     "output_type": "execute_result"
    }
   ],
   "source": [
    "import os\n",
    "import pandas as pd\n",
    "import zipfile\n",
    "\n",
    "dataset_path = './dataset/'\n",
    "zip_file_name = 'loan.csv.zip'\n",
    "csv_file_name = 'loan.csv'\n",
    "\n",
    "# write your code here\n",
    "zf = zipfile.ZipFile(zip_file_name)\n",
    "zf.extractall(dataset_path)\n",
    "\n",
    "loan_data = pd.read_csv(zf.open(csv_file_name))\n",
    "loan_data.head()"
   ]
  },
  {
   "cell_type": "markdown",
   "metadata": {},
   "source": [
    "### Q2: Indexing (10 points)\n",
    "\n",
    "There are about 70+ columns and about 870000 rows in the dataset. However, not all of them are of our interests. Also, some values in certain columns are missing or hard to proceed.\n",
    "We need select some of rows and columns as a subset for further mining.\n",
    "\n",
    "First, extract columns whose names are `'loan_amnt'`, `'term'`, `'int_rate'`, `'grade'`, `'issue_d'`, `'addr_state'`, `'loan_status'`. Show your subset data head.\n",
    "\n",
    "Second, have a look at `'loan_status'` column. There are several possible status appearing in this metric and please count the number of records for each possible status. Print out your result."
   ]
  },
  {
   "cell_type": "code",
   "execution_count": 16,
   "metadata": {},
   "outputs": [
    {
     "data": {
      "text/html": [
       "<div>\n",
       "<style scoped>\n",
       "    .dataframe tbody tr th:only-of-type {\n",
       "        vertical-align: middle;\n",
       "    }\n",
       "\n",
       "    .dataframe tbody tr th {\n",
       "        vertical-align: top;\n",
       "    }\n",
       "\n",
       "    .dataframe thead th {\n",
       "        text-align: right;\n",
       "    }\n",
       "</style>\n",
       "<table border=\"1\" class=\"dataframe\">\n",
       "  <thead>\n",
       "    <tr style=\"text-align: right;\">\n",
       "      <th></th>\n",
       "      <th>loan_amnt</th>\n",
       "      <th>term</th>\n",
       "      <th>int_rate</th>\n",
       "      <th>grade</th>\n",
       "      <th>issue_d</th>\n",
       "      <th>addr_state</th>\n",
       "      <th>loan_status</th>\n",
       "    </tr>\n",
       "  </thead>\n",
       "  <tbody>\n",
       "    <tr>\n",
       "      <th>0</th>\n",
       "      <td>5000.0</td>\n",
       "      <td>36 months</td>\n",
       "      <td>10.65</td>\n",
       "      <td>B</td>\n",
       "      <td>Dec-2011</td>\n",
       "      <td>AZ</td>\n",
       "      <td>Fully Paid</td>\n",
       "    </tr>\n",
       "    <tr>\n",
       "      <th>1</th>\n",
       "      <td>2500.0</td>\n",
       "      <td>60 months</td>\n",
       "      <td>15.27</td>\n",
       "      <td>C</td>\n",
       "      <td>Dec-2011</td>\n",
       "      <td>GA</td>\n",
       "      <td>Charged Off</td>\n",
       "    </tr>\n",
       "    <tr>\n",
       "      <th>2</th>\n",
       "      <td>2400.0</td>\n",
       "      <td>36 months</td>\n",
       "      <td>15.96</td>\n",
       "      <td>C</td>\n",
       "      <td>Dec-2011</td>\n",
       "      <td>IL</td>\n",
       "      <td>Fully Paid</td>\n",
       "    </tr>\n",
       "    <tr>\n",
       "      <th>3</th>\n",
       "      <td>10000.0</td>\n",
       "      <td>36 months</td>\n",
       "      <td>13.49</td>\n",
       "      <td>C</td>\n",
       "      <td>Dec-2011</td>\n",
       "      <td>CA</td>\n",
       "      <td>Fully Paid</td>\n",
       "    </tr>\n",
       "    <tr>\n",
       "      <th>4</th>\n",
       "      <td>3000.0</td>\n",
       "      <td>60 months</td>\n",
       "      <td>12.69</td>\n",
       "      <td>B</td>\n",
       "      <td>Dec-2011</td>\n",
       "      <td>OR</td>\n",
       "      <td>Current</td>\n",
       "    </tr>\n",
       "  </tbody>\n",
       "</table>\n",
       "</div>"
      ],
      "text/plain": [
       "   loan_amnt        term  int_rate grade   issue_d addr_state  loan_status\n",
       "0     5000.0   36 months     10.65     B  Dec-2011         AZ   Fully Paid\n",
       "1     2500.0   60 months     15.27     C  Dec-2011         GA  Charged Off\n",
       "2     2400.0   36 months     15.96     C  Dec-2011         IL   Fully Paid\n",
       "3    10000.0   36 months     13.49     C  Dec-2011         CA   Fully Paid\n",
       "4     3000.0   60 months     12.69     B  Dec-2011         OR      Current"
      ]
     },
     "execution_count": 16,
     "metadata": {},
     "output_type": "execute_result"
    }
   ],
   "source": [
    "# write your code here\n",
    "loan_subset = loan_data[['loan_amnt','term','int_rate','grade','issue_d','addr_state','loan_status']]\n",
    "loan_subset.head()"
   ]
  },
  {
   "cell_type": "code",
   "execution_count": 17,
   "metadata": {},
   "outputs": [
    {
     "data": {
      "text/plain": [
       "Current                                                601779\n",
       "Fully Paid                                             207723\n",
       "Charged Off                                             45248\n",
       "Late (31-120 days)                                      11591\n",
       "Issued                                                   8460\n",
       "In Grace Period                                          6253\n",
       "Late (16-30 days)                                        2357\n",
       "Does not meet the credit policy. Status:Fully Paid       1988\n",
       "Default                                                  1219\n",
       "Does not meet the credit policy. Status:Charged Off       761\n",
       "Name: loan_status, dtype: int64"
      ]
     },
     "execution_count": 17,
     "metadata": {},
     "output_type": "execute_result"
    }
   ],
   "source": [
    "loan_subset['loan_status'].value_counts()"
   ]
  },
  {
   "cell_type": "markdown",
   "metadata": {},
   "source": [
    "### Q3: Data Aggregation with Group Operations (25 points)\n",
    "\n",
    "Your next step is about how to group data in terms of certain criteria. Here, we would like to know the amount of loan by month. In other words, we'd like to see something like:\n",
    "\n",
    "|   issue_m  |    loan_amnt    |\n",
    "| ---------- | -----------|\n",
    "|     2007-06   |   91850.0  |\n",
    "|     2007-07   |  348325.0  |\n",
    "\n",
    "Sometimes the value in time-related columns cannot be handled by pandas. For example if you have a look at the value in `'issue_d'` column, its form is like \"Dec-12\".\n",
    "We human can understand it but pandas needs `datetime` variable to proceed.\n",
    "\n",
    "Please perform suitable data processing on the subset. Then group the records according to month. Sum all the loans in each month and **print out top ten lines of the result**.\n",
    "\n",
    "**Hint**: `groupby`"
   ]
  },
  {
   "cell_type": "code",
   "execution_count": 18,
   "metadata": {},
   "outputs": [
    {
     "data": {
      "text/html": [
       "<div>\n",
       "<style scoped>\n",
       "    .dataframe tbody tr th:only-of-type {\n",
       "        vertical-align: middle;\n",
       "    }\n",
       "\n",
       "    .dataframe tbody tr th {\n",
       "        vertical-align: top;\n",
       "    }\n",
       "\n",
       "    .dataframe thead th {\n",
       "        text-align: right;\n",
       "    }\n",
       "</style>\n",
       "<table border=\"1\" class=\"dataframe\">\n",
       "  <thead>\n",
       "    <tr style=\"text-align: right;\">\n",
       "      <th></th>\n",
       "      <th>loan_amnt</th>\n",
       "    </tr>\n",
       "    <tr>\n",
       "      <th>month</th>\n",
       "      <th></th>\n",
       "    </tr>\n",
       "  </thead>\n",
       "  <tbody>\n",
       "    <tr>\n",
       "      <th>1</th>\n",
       "      <td>9.327494e+08</td>\n",
       "    </tr>\n",
       "    <tr>\n",
       "      <th>2</th>\n",
       "      <td>7.809604e+08</td>\n",
       "    </tr>\n",
       "    <tr>\n",
       "      <th>3</th>\n",
       "      <td>8.353893e+08</td>\n",
       "    </tr>\n",
       "    <tr>\n",
       "      <th>4</th>\n",
       "      <td>1.035324e+09</td>\n",
       "    </tr>\n",
       "    <tr>\n",
       "      <th>5</th>\n",
       "      <td>9.909867e+08</td>\n",
       "    </tr>\n",
       "    <tr>\n",
       "      <th>6</th>\n",
       "      <td>9.304178e+08</td>\n",
       "    </tr>\n",
       "    <tr>\n",
       "      <th>7</th>\n",
       "      <td>1.398710e+09</td>\n",
       "    </tr>\n",
       "    <tr>\n",
       "      <th>8</th>\n",
       "      <td>1.127646e+09</td>\n",
       "    </tr>\n",
       "    <tr>\n",
       "      <th>9</th>\n",
       "      <td>9.185180e+08</td>\n",
       "    </tr>\n",
       "    <tr>\n",
       "      <th>10</th>\n",
       "      <td>1.645212e+09</td>\n",
       "    </tr>\n",
       "    <tr>\n",
       "      <th>11</th>\n",
       "      <td>1.295557e+09</td>\n",
       "    </tr>\n",
       "    <tr>\n",
       "      <th>12</th>\n",
       "      <td>1.202042e+09</td>\n",
       "    </tr>\n",
       "  </tbody>\n",
       "</table>\n",
       "</div>"
      ],
      "text/plain": [
       "          loan_amnt\n",
       "month              \n",
       "1      9.327494e+08\n",
       "2      7.809604e+08\n",
       "3      8.353893e+08\n",
       "4      1.035324e+09\n",
       "5      9.909867e+08\n",
       "6      9.304178e+08\n",
       "7      1.398710e+09\n",
       "8      1.127646e+09\n",
       "9      9.185180e+08\n",
       "10     1.645212e+09\n",
       "11     1.295557e+09\n",
       "12     1.202042e+09"
      ]
     },
     "execution_count": 18,
     "metadata": {},
     "output_type": "execute_result"
    }
   ],
   "source": [
    "# write your code here\n",
    "loan_subset['issue_d'] = pd.to_datetime(loan_subset['issue_d'])\n",
    "month = loan_subset['issue_d'].dt.month\n",
    "loan_subset['month'] = month\n",
    "loan_subset.groupby(['month'])[['loan_amnt']].sum()"
   ]
  },
  {
   "cell_type": "code",
   "execution_count": null,
   "metadata": {},
   "outputs": [],
   "source": []
  }
 ],
 "metadata": {
  "kernelspec": {
   "display_name": "Python 3",
   "language": "python",
   "name": "python3"
  },
  "language_info": {
   "codemirror_mode": {
    "name": "ipython",
    "version": 3
   },
   "file_extension": ".py",
   "mimetype": "text/x-python",
   "name": "python",
   "nbconvert_exporter": "python",
   "pygments_lexer": "ipython3",
   "version": "3.6.8"
  }
 },
 "nbformat": 4,
 "nbformat_minor": 2
}
